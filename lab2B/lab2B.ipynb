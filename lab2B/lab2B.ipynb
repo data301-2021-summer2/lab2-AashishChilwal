{
 "cells": [
  {
   "cell_type": "markdown",
   "source": [
    "# Lab 2B: Introduction to Python\n",
    "\n",
    "In this lab you will be working on python basics.\n",
    "\n",
    "I have recorded a video to get you started with this lab: [Click here to view the video](https://vimeo.com/570824958).\n",
    "The lab is slightly different and updated, but the idea is very similar.\n",
    "\n",
    "**This lab must be completed individually.**\n",
    "\n",
    "Where provided, try your best to match the **Sample Output** as best as you can.\n",
    "\n",
    "## Accept the lab\n",
    "\n",
    "To accept this lab on GitHub Classroom, go to `Canvas` --> `Course Content` --> `Lab Links and Solutions`."
   ],
   "metadata": {}
  },
  {
   "cell_type": "markdown",
   "source": [
    "## Objectives\n",
    "\n",
    "1. Practice Python loops and conditions\n",
    "2. Practice Python lists and dictionaries\n",
    "3. Practice string manipulation in Python\n",
    "4. Practice importing and using the Pandas module"
   ],
   "metadata": {}
  },
  {
   "cell_type": "markdown",
   "source": [
    "## Task 1: Python Fundamentals I\n",
    "\n",
    "The following problems are practice problems that will help you learn some basic python syntax.\n",
    "They have been adapted from [Tomas Beuzen's Python Programming for Data Science textbook here](https://www.tomasbeuzen.com/python-programming-for-data-science/practice-exercises/chapter1-basics-practice.html) under a Creative Commons license.\n",
    "\n",
    "The solutions to the problems are available at the link, but I encourage you to try doing the problems on your own before you check the solutions! "
   ],
   "metadata": {}
  },
  {
   "cell_type": "markdown",
   "source": [
    "### 1.1 Splitting Strings"
   ],
   "metadata": {}
  },
  {
   "cell_type": "markdown",
   "source": [
    "Split the following string into a list by splitting on the space character:"
   ],
   "metadata": {}
  },
  {
   "cell_type": "code",
   "execution_count": 17,
   "source": [
    "s = \"We are learning things VERY fast in Data 301!\"\n",
    "\n",
    "# Your answer here."
   ],
   "outputs": [],
   "metadata": {}
  },
  {
   "cell_type": "markdown",
   "source": [
    "### 1.2 Substitutions with F-strings"
   ],
   "metadata": {}
  },
  {
   "cell_type": "markdown",
   "source": [
    "Given the following variables:\n",
    "\n",
    "```\n",
    "thing = \"light\"\n",
    "speed = 299792458  # m/s\n",
    "```\n",
    "\n",
    "Use f-strings to print:\n",
    "\n",
    "```\n",
    "The speed of light is 2.997925e+08 m/s.\n",
    "```"
   ],
   "metadata": {}
  },
  {
   "cell_type": "code",
   "execution_count": 18,
   "source": [
    "thing = \"light\"\n",
    "speed = 299792458  # m/s\n",
    "\n",
    "# Your answer here."
   ],
   "outputs": [],
   "metadata": {}
  },
  {
   "cell_type": "markdown",
   "source": [
    "### 1.3 List Indexing"
   ],
   "metadata": {}
  },
  {
   "cell_type": "markdown",
   "source": [
    "Given this nested list, use indexing to grab the word \"MDS\":\n",
    "\n",
    "```\n",
    "l = [10, [3, 4], [5, [100, 200, [\"MDS\"]], 23, 11], 1, 7]\n",
    "```"
   ],
   "metadata": {}
  },
  {
   "cell_type": "code",
   "execution_count": 19,
   "source": [
    "l = [10, [3, 4], [5, [100, 200, [\"MDS\"]], 23, 11], 1, 7]\n",
    "\n",
    "# Your answer here."
   ],
   "outputs": [],
   "metadata": {}
  },
  {
   "cell_type": "markdown",
   "source": [
    "### 1.4 Dictionary Indexing"
   ],
   "metadata": {}
  },
  {
   "cell_type": "markdown",
   "source": [
    "Given this nest dictionary grab the word \"DATA 301\":\n",
    "\n",
    "```\n",
    "d = {\n",
    "    \"outer\": [\n",
    "        1,\n",
    "        2,\n",
    "        3,\n",
    "        {\"inner\": [\"this\", \"is\", \"inception\", {\"inner_inner\": [1, 2, 3, \"DATA 301\"]}]},\n",
    "    ]\n",
    "}\n",
    "```"
   ],
   "metadata": {}
  },
  {
   "cell_type": "code",
   "execution_count": 20,
   "source": [
    "d = {\n",
    "    \"outer\": [\n",
    "        1,\n",
    "        2,\n",
    "        3,\n",
    "        {\"inner\": [\"this\", \"is\", \"inception\", {\"inner_inner\": [1, 2, 3, \"DATA 301\"]}]},\n",
    "    ]\n",
    "}"
   ],
   "outputs": [],
   "metadata": {}
  },
  {
   "cell_type": "code",
   "execution_count": 21,
   "source": [
    "# Your answer here."
   ],
   "outputs": [],
   "metadata": {}
  },
  {
   "cell_type": "markdown",
   "source": [
    "### 1.5 Conditional Statements"
   ],
   "metadata": {}
  },
  {
   "cell_type": "markdown",
   "source": [
    "Given the variable `language` which contains a string, use `if/elif/else` to write a program that:\n",
    "- return \"I love snakes!\" if `language` is `\"python\"` (any kind of capitalization)\n",
    "- return \"Are you a pirate?\" if `language` is `\"R\"` (any kind of capitalization)\n",
    "- else return \"What is `language`?\" if `language` is anything else."
   ],
   "metadata": {}
  },
  {
   "cell_type": "code",
   "execution_count": 22,
   "source": [
    "language = \"python\"\n",
    "\n",
    "# Your answer here."
   ],
   "outputs": [],
   "metadata": {}
  },
  {
   "cell_type": "markdown",
   "source": [
    "## Task 2: Python Fundamentals II (10 marks)\n",
    "\n",
    "This part of the lab takes you through some of the fundamental components of Python."
   ],
   "metadata": {}
  },
  {
   "cell_type": "markdown",
   "source": [
    "### 2.1: `if-elif-else` statements (2 marks)\n",
    "\n",
    "Fill in missing pieces of the following code such that print statements make sense. You should replace <YOUR_CODE_HERE> with your code."
   ],
   "metadata": {}
  },
  {
   "cell_type": "code",
   "execution_count": 1,
   "source": [
    "name = 'Jean-Luc Picard'"
   ],
   "outputs": [],
   "metadata": {}
  },
  {
   "cell_type": "code",
   "execution_count": 2,
   "source": [
    "### Your solution here\n",
    "\n",
    "if <YOUR_CODE_HERE>:\n",
    "    print('Name \"{}\" is more than 18 chars long'.format(name))\n",
    "    length_description = 'long'\n",
    "elif <YOUR_CODE_HERE>:\n",
    "    print('Name \"{}\" is more than 15 chars long'.format(name))\n",
    "    length_description = 'semi long'\n",
    "elif <YOUR_CODE_HERE>:\n",
    "    print('Name \"{}\" is more than 12 chars long'.format(name))\n",
    "    length_description = 'semi long'\n",
    "elif <YOUR_CODE_HERE>:\n",
    "    print('Name \"{}\" is 9, 10 or 11 chars long'.format(name))\n",
    "    length_description = 'semi short'\n",
    "else:\n",
    "    print('Name \"{}\" is a short name'.format(name))\n",
    "    length_description = 'short'"
   ],
   "outputs": [
    {
     "output_type": "error",
     "ename": "SyntaxError",
     "evalue": "invalid syntax (<ipython-input-2-c5380f320f4d>, line 3)",
     "traceback": [
      "\u001b[0;36m  File \u001b[0;32m\"<ipython-input-2-c5380f320f4d>\"\u001b[0;36m, line \u001b[0;32m3\u001b[0m\n\u001b[0;31m    if <YOUR_CODE_HERE>:\u001b[0m\n\u001b[0m       ^\u001b[0m\n\u001b[0;31mSyntaxError\u001b[0m\u001b[0;31m:\u001b[0m invalid syntax\n"
     ]
    }
   ],
   "metadata": {}
  },
  {
   "cell_type": "markdown",
   "source": [
    "### 2.2: `for` loops (2 marks)\n",
    "\n",
    "Fill <YOUR_CODE_HERE> in the code snippet below so that this sample output is printed:\n",
    "\n",
    "#### Sample Output\n",
    "> A<br>\n",
    "> AA<br>\n",
    "> AAA<br>\n",
    "> AAAA<br>\n",
    "> AAAAA<br>\n",
    "> AAAA<br>\n",
    "> AAA<br>\n",
    "> AA<br>\n",
    "> A<br>"
   ],
   "metadata": {}
  },
  {
   "cell_type": "code",
   "execution_count": 3,
   "source": [
    "### Your solution here\n",
    "\n",
    "n = 10\n",
    "for i in range(1,n):\n",
    "    if <YOUR_CODE_HERE>:\n",
    "        print(\"A\" * <YOUR_CODE_HERE>)\n",
    "    else:\n",
    "        print(\"A\" * (<YOUR_CODE_HERE>))"
   ],
   "outputs": [
    {
     "output_type": "error",
     "ename": "SyntaxError",
     "evalue": "invalid syntax (<ipython-input-3-c10591d49810>, line 5)",
     "traceback": [
      "\u001b[0;36m  File \u001b[0;32m\"<ipython-input-3-c10591d49810>\"\u001b[0;36m, line \u001b[0;32m5\u001b[0m\n\u001b[0;31m    if <YOUR_CODE_HERE>:\u001b[0m\n\u001b[0m       ^\u001b[0m\n\u001b[0;31mSyntaxError\u001b[0m\u001b[0;31m:\u001b[0m invalid syntax\n"
     ]
    }
   ],
   "metadata": {}
  },
  {
   "cell_type": "markdown",
   "source": [
    "### 2.3: `for` loops and `lists`\n",
    "\n",
    "We have given you some sample code, as well as a list called `data`. \n",
    "\n",
    "> data = [53,9,5,90,63,5,97,40,92,48,53,8,38,63,13,15,66,81,57,79,42,91,25,89,66,4,73,45,80,17]\n",
    "\n",
    "For each of the exercises 1C1 - 1CX, use the `data` list to answer the question by writing the appropriate bits of python code."
   ],
   "metadata": {}
  },
  {
   "cell_type": "markdown",
   "source": [
    "#### 2.3.1: Print values that are within the upper and lower bounds of 15 and 40 (2 marks)\n",
    "\n",
    "*Hint: Use a for loop and loop through each of the elements in data*\n",
    "\n",
    "##### Sample output (it's okay if yours is vertical rather than horizontally printed):\n",
    "\n",
    "> [40, 38, 15, 25, 17]\n"
   ],
   "metadata": {}
  },
  {
   "cell_type": "code",
   "execution_count": 4,
   "source": [
    "data = [53,9,5,90,63,5,97,40,92,48,53,8,38,63,13,15,66,81,57,79,42,91,25,89,66,4,73,45,80,17]\n",
    "\n",
    "### Your solution here"
   ],
   "outputs": [],
   "metadata": {}
  },
  {
   "cell_type": "markdown",
   "source": [
    "#### 2.3.2: Write code to calculate and print the maximum, minimum, sum, count, and average of items in `data`  (4 marks)\n",
    "\n",
    "*Hint: for the mean, you will need to combine the sum and the count*\n",
    "\n",
    "##### Sample output\n",
    "\n",
    "> The max is: 97 <br/>\n",
    "> The min is: 4 <br/>\n",
    "> The sum is: 1507 <br/>\n",
    "> The count is: 30 <br/>\n",
    "> The mean is: 50.233333333333334 <br/>"
   ],
   "metadata": {}
  },
  {
   "cell_type": "code",
   "execution_count": 9,
   "source": [
    "### Your solution here\n",
    "\n",
    "print('The max is: {0}'.format(<YOUR_CODE_HERE>)\n",
    "print('The min is: {0}'.format(<YOUR_CODE_HERE>)\n",
    "print('The sum is: {0}'.format(<YOUR_CODE_HERE>)\n",
    "print('The count is: {0}'.format(<YOUR_CODE_HERE>)\n",
    "print('The mean is: {0}'.format(<YOUR_CODE_HERE>)"
   ],
   "outputs": [
    {
     "output_type": "error",
     "ename": "SyntaxError",
     "evalue": "invalid syntax (<ipython-input-9-4085dd0417fb>, line 3)",
     "traceback": [
      "\u001b[0;36m  File \u001b[0;32m\"<ipython-input-9-4085dd0417fb>\"\u001b[0;36m, line \u001b[0;32m3\u001b[0m\n\u001b[0;31m    print('The max is: {0}'.format(<YOUR_CODE_HERE>)\u001b[0m\n\u001b[0m                                   ^\u001b[0m\n\u001b[0;31mSyntaxError\u001b[0m\u001b[0;31m:\u001b[0m invalid syntax\n"
     ]
    }
   ],
   "metadata": {}
  },
  {
   "cell_type": "markdown",
   "source": [
    "#### 2.4: (Optional) Using list comprehension (NOT for loops), print out the numbers within the specified upper and lower bounds (inclusive) of 12 and 80 (0 marks).\n",
    "\n",
    "#### Sample output:\n",
    "> [53, 63, 40, 48, 53, 38, 63, 13, 15, 66, 57, 79, 42, 25, 66, 73, 45, 80, 17]"
   ],
   "metadata": {}
  },
  {
   "cell_type": "code",
   "execution_count": null,
   "source": [
    "### Your solution here"
   ],
   "outputs": [],
   "metadata": {}
  },
  {
   "cell_type": "markdown",
   "source": [
    "## Task 3 - Dictionaries, Lists and data manapulation (10 marks)\n",
    "\n",
    "In this part we explore another fundamental data structure in python, called Dictionaries."
   ],
   "metadata": {}
  },
  {
   "cell_type": "markdown",
   "source": [
    "### 3.1: Create a dictionary that has 3 keys: name, age and salary, and enter in the following dummy information. (2 marks)\n",
    "\n",
    "#### Sample output\n",
    "> {'name': 'Tim Cook', 'age': 59, 'salary': 3000000.0}"
   ],
   "metadata": {}
  },
  {
   "cell_type": "code",
   "execution_count": 12,
   "source": [
    "### Your solution here"
   ],
   "outputs": [],
   "metadata": {}
  },
  {
   "cell_type": "markdown",
   "source": [
    "### 3.2: Create a second dictionary, this time with at least 5 different names, ages, and salaries. (2 marks)\n",
    "\n",
    "*Hint: There should only be three keys, and the values should be a list.*\n",
    "\n",
    "#### Sample Output\n",
    "\n",
    "> {'name': ['Tim Cook', 'Person 2', 'Person 3'],\n",
    "> 'age': [59, 24, 40],\n",
    "> 'salary': [30000000.0, 200000.0, 900000.0]}"
   ],
   "metadata": {}
  },
  {
   "cell_type": "code",
   "execution_count": 6,
   "source": [
    "### Your solution here"
   ],
   "outputs": [],
   "metadata": {}
  },
  {
   "cell_type": "markdown",
   "source": [
    "### 3.3: Create a Python program that takes a string text and calculates the frequency of each letter (6 marks)\n",
    "\n",
    "text = \"\"\"Elephants are mammals of the family Elephantidae and the largest existing land animals. Three species are currently recognised: the African bush elephant, the African forest elephant, and the Asian elephant. Elephantidae is the only surviving family of the order Proboscidea; extinct members include the mastodons. The family Elephantidae also contains several now-extinct groups, including the mammoths and straight-tusked elephants. African elephants have larger ears and concave backs, whereas Asian elephants have smaller ears, and convex or level backs. Distinctive features of all elephants include a long trunk, tusks, large ear flaps, massive legs, and tough but sensitive skin. The trunk, also called a proboscis, is used for breathing, bringing food and water to the mouth, and grasping objects. Tusks, which are derived from the incisor teeth, serve both as weapons and as tools for moving objects and digging. The large ear flaps assist in maintaining a constant body temperature as well as in communication. The pillar-like legs carry their great weight. Elephants are scattered throughout sub-Saharan Africa, South Asia, and Southeast Asia and are found in different habitats, including savannahs, forests, deserts, and marshes. They are herbivorous, and they stay near water when it is accessible. They are considered to be keystone species, due to their impact on their environments.[1] Other animals tend to keep their distance from elephants; the exception is their predators such as lions, tigers, hyenas, and wild dogs, which usually target only young elephants (calves). Elephants have a fission–fusion society, in which multiple family groups come together to socialise. Females (cows) tend to live in family groups, which can consist of one female with her calves or several related females with offspring. The groups, which do not include bulls, are led by the (usually) oldest cow, known as the matriarch.\"\"\"\n",
    "\n",
    "*Hint: There are many ways to do this, the most \"elegant\" way uses a mixture of sets, and the `Counter` modules from [`collections`](https://docs.python.org/3/library/collections.html#counter-objects)*\n",
    "\n",
    "#### Sample output:\n",
    "\n",
    ">' ': Count of 293 and Percentage of 15.2%<br>\n",
    ">'(': Count of 3 and Percentage of 0.2%<br>\n",
    ">')': Count of 3 and Percentage of 0.2%<br>\n",
    ">',': Count of 32 and Percentage of 1.7%<br>\n",
    ">'-': Count of 4 and Percentage of 0.2%<br>\n",
    ">'.': Count of 17 and Percentage of 0.9%<br>\n",
    ">'1': Count of 1 and Percentage of 0.1%<br>\n",
    ">':': Count of 1 and Percentage of 0.1%<br>\n",
    ">';': Count of 2 and Percentage of 0.1%<br>\n",
    ">'A': Count of 8 and Percentage of 0.4%<br>\n",
    ">'D': Count of 1 and Percentage of 0.1%<br>\n",
    ">'E': Count of 6 and Percentage of 0.3%<br>\n",
    ">'F': Count of 1 and Percentage of 0.1%<br>\n",
    ">'O': Count of 1 and Percentage of 0.1%<br>\n",
    ">'P': Count of 1 and Percentage of 0.1%<br>\n",
    ">'S': Count of 3 and Percentage of 0.2%<br>\n",
    ">'T': Count of 9 and Percentage of 0.5%<br>\n",
    ">'[': Count of 1 and Percentage of 0.1%<br>\n",
    ">']': Count of 1 and Percentage of 0.1%<br>\n",
    ">'a': Count of 147 and Percentage of 7.6%<br>\n",
    ">'b': Count of 20 and Percentage of 1.0%<br>\n",
    ">'c': Count of 55 and Percentage of 2.8%<br>\n",
    ">'d': Count of 53 and Percentage of 2.7%<br>\n",
    ">'e': Count of 189 and Percentage of 9.8%<br>\n",
    ">'f': Count of 32 and Percentage of 1.7%<br>\n",
    ">'g': Count of 37 and Percentage of 1.9%<br>\n",
    ">'h': Count of 84 and Percentage of 4.4%<br>\n",
    ">'i': Count of 109 and Percentage of 5.6%<br>\n",
    ">'j': Count of 2 and Percentage of 0.1%<br>\n",
    ">'k': Count of 12 and Percentage of 0.6%<br>\n",
    ">'l': Count of 80 and Percentage of 4.1%<br>\n",
    ">'m': Count of 35 and Percentage of 1.8%<br>\n",
    ">'n': Count of 114 and Percentage of 5.9%<br>\n",
    ">'o': Count of 87 and Percentage of 4.5%<br>\n",
    ">'p': Count of 34 and Percentage of 1.8%<br>\n",
    ">'r': Count of 92 and Percentage of 4.8%<br>\n",
    ">'s': Count of 131 and Percentage of 6.8%<br>\n",
    ">'t': Count of 120 and Percentage of 6.2%<br>\n",
    ">'u': Count of 41 and Percentage of 2.1%<br>\n",
    ">'v': Count of 22 and Percentage of 1.1%<br>\n",
    ">'w': Count of 19 and Percentage of 1.0%<br>\n",
    ">'x': Count of 5 and Percentage of 0.3%<br>\n",
    ">'y': Count of 21 and Percentage of 1.1%<br>\n",
    ">'–': Count of 1 and Percentage of 0.1%<br>"
   ],
   "metadata": {}
  },
  {
   "cell_type": "code",
   "execution_count": 14,
   "source": [
    "text = \"\"\"Elephants are mammals of the family Elephantidae and the largest existing land animals. Three species are currently recognised: the African bush elephant, the African forest elephant, and the Asian elephant. Elephantidae is the only surviving family of the order Proboscidea; extinct members include the mastodons. The family Elephantidae also contains several now-extinct groups, including the mammoths and straight-tusked elephants. African elephants have larger ears and concave backs, whereas Asian elephants have smaller ears, and convex or level backs. Distinctive features of all elephants include a long trunk, tusks, large ear flaps, massive legs, and tough but sensitive skin. The trunk, also called a proboscis, is used for breathing, bringing food and water to the mouth, and grasping objects. Tusks, which are derived from the incisor teeth, serve both as weapons and as tools for moving objects and digging. The large ear flaps assist in maintaining a constant body temperature as well as in communication. The pillar-like legs carry their great weight. Elephants are scattered throughout sub-Saharan Africa, South Asia, and Southeast Asia and are found in different habitats, including savannahs, forests, deserts, and marshes. They are herbivorous, and they stay near water when it is accessible. They are considered to be keystone species, due to their impact on their environments.[1] Other animals tend to keep their distance from elephants; the exception is their predators such as lions, tigers, hyenas, and wild dogs, which usually target only young elephants (calves). Elephants have a fission–fusion society, in which multiple family groups come together to socialise. Females (cows) tend to live in family groups, which can consist of one female with her calves or several related females with offspring. The groups, which do not include bulls, are led by the (usually) oldest cow, known as the matriarch.\"\"\"\n",
    "\n",
    "### Your solution here"
   ],
   "outputs": [],
   "metadata": {}
  }
 ],
 "metadata": {
  "interpreter": {
   "hash": "31f2aee4e71d21fbe5cf8b01ff0e069b9275f58929596ceb00d14d90e3e16cd6"
  },
  "kernelspec": {
   "display_name": "Python 3",
   "language": "python",
   "name": "python3"
  },
  "language_info": {
   "codemirror_mode": {
    "name": "ipython",
    "version": 3
   },
   "file_extension": ".py",
   "mimetype": "text/x-python",
   "name": "python",
   "nbconvert_exporter": "python",
   "pygments_lexer": "ipython3",
   "version": "3.8.3"
  },
  "nteract": {
   "version": "0.25.0"
  }
 },
 "nbformat": 4,
 "nbformat_minor": 4
}