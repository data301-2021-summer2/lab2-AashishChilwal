{
 "cells": [
  {
   "cell_type": "markdown",
   "metadata": {},
   "source": [
    "# Lab 2B: Introduction to Python\n",
    "\n",
    "In this lab you will be working on python basics.\n",
    "\n",
    "I have recorded a video to get you started with this lab: [Click here to view the video](https://vimeo.com/570824958).\n",
    "The lab is slightly different and updated, but the idea is very similar.\n",
    "\n",
    "**This lab must be completed individually.**\n",
    "\n",
    "Where provided, try your best to match the **Sample Output** as best as you can.\n",
    "\n",
    "## Accept the lab\n",
    "\n",
    "To accept this lab on GitHub Classroom, go to `Canvas` --> `Course Content` --> `Lab Links and Solutions`."
   ]
  },
  {
   "cell_type": "markdown",
   "metadata": {},
   "source": [
    "## Objectives\n",
    "\n",
    "1. Practice Python loops and conditions\n",
    "2. Practice Python lists and dictionaries\n",
    "3. Practice string manipulation in Python\n",
    "4. Practice importing and using the Pandas module"
   ]
  },
  {
   "cell_type": "markdown",
   "metadata": {},
   "source": [
    "## Task 1: Python Fundamentals I\n",
    "\n",
    "The following problems are practice problems that will help you learn some basic python syntax.\n",
    "They have been adapted from [Tomas Beuzen's Python Programming for Data Science textbook here](https://www.tomasbeuzen.com/python-programming-for-data-science/practice-exercises/chapter1-basics-practice.html) under a Creative Commons license.\n",
    "\n",
    "The solutions to the problems are available at the link, but I encourage you to try doing the problems on your own before you check the solutions! "
   ]
  },
  {
   "cell_type": "markdown",
   "metadata": {},
   "source": [
    "### 1.1 Splitting Strings"
   ]
  },
  {
   "cell_type": "markdown",
   "metadata": {},
   "source": [
    "Split the following string into a list by splitting on the space character:"
   ]
  },
  {
   "cell_type": "code",
   "execution_count": 2,
   "metadata": {},
   "outputs": [
    {
     "data": {
      "text/plain": [
       "['We', 'are', 'learning', 'things', 'VERY', 'fast', 'in', 'Data', '301!']"
      ]
     },
     "execution_count": 2,
     "metadata": {},
     "output_type": "execute_result"
    }
   ],
   "source": [
    "s = \"We are learning things VERY fast in Data 301!\"\n",
    "\n",
    "# Your answer here.\n",
    "s.split()"
   ]
  },
  {
   "cell_type": "markdown",
   "metadata": {},
   "source": [
    "### 1.2 Substitutions with F-strings"
   ]
  },
  {
   "cell_type": "markdown",
   "metadata": {},
   "source": [
    "Given the following variables:\n",
    "\n",
    "```\n",
    "thing = \"light\"\n",
    "speed = 299792458  # m/s\n",
    "```\n",
    "\n",
    "Use f-strings to print:\n",
    "\n",
    "```\n",
    "The speed of light is 2.997925e+08 m/s.\n",
    "```"
   ]
  },
  {
   "cell_type": "code",
   "execution_count": 5,
   "metadata": {},
   "outputs": [
    {
     "name": "stdout",
     "output_type": "stream",
     "text": [
      "The speed of light is 299792458 m/s.\n"
     ]
    }
   ],
   "source": [
    "thing = \"light\"\n",
    "speed = 299792458  # m/s\n",
    "\n",
    "# Your answer here.\n",
    "print(f'The speed of {thing} is {speed} m/s.')"
   ]
  },
  {
   "cell_type": "markdown",
   "metadata": {},
   "source": [
    "### 1.3 List Indexing"
   ]
  },
  {
   "cell_type": "markdown",
   "metadata": {},
   "source": [
    "Given this nested list, use indexing to grab the word \"MDS\":\n",
    "\n",
    "```\n",
    "l = [10, [3, 4], [5, [100, 200, [\"MDS\"]], 23, 11], 1, 7]\n",
    "```"
   ]
  },
  {
   "cell_type": "code",
   "execution_count": 11,
   "metadata": {},
   "outputs": [
    {
     "data": {
      "text/plain": [
       "['MDS']"
      ]
     },
     "execution_count": 11,
     "metadata": {},
     "output_type": "execute_result"
    }
   ],
   "source": [
    "l = [10, [3, 4], [5, [100, 200, [\"MDS\"]], 23, 11], 1, 7]\n",
    "\n",
    "# Your answer here.\n",
    "l[2][1][2]\n"
   ]
  },
  {
   "cell_type": "markdown",
   "metadata": {},
   "source": [
    "### 1.4 Dictionary Indexing"
   ]
  },
  {
   "cell_type": "markdown",
   "metadata": {},
   "source": [
    "Given this nest dictionary grab the word \"DATA 301\":\n",
    "\n",
    "```\n",
    "d = {\n",
    "    \"outer\": [\n",
    "        1,\n",
    "        2,\n",
    "        3,\n",
    "        {\"inner\": [\"this\", \"is\", \"inception\", {\"inner_inner\": [1, 2, 3, \"DATA 301\"]}]},\n",
    "    ]\n",
    "}\n",
    "```"
   ]
  },
  {
   "cell_type": "code",
   "execution_count": 20,
   "metadata": {},
   "outputs": [],
   "source": [
    "d = {\n",
    "    \"outer\": [\n",
    "        1,\n",
    "        2,\n",
    "        3,\n",
    "        {\"inner\": [\"this\", \"is\", \"inception\", {\"inner_inner\": [1, 2, 3, \"DATA 301\"]}]},\n",
    "    ]\n",
    "}"
   ]
  },
  {
   "cell_type": "code",
   "execution_count": 21,
   "metadata": {},
   "outputs": [],
   "source": [
    "# Your answer here."
   ]
  },
  {
   "cell_type": "markdown",
   "metadata": {},
   "source": [
    "### 1.5 Conditional Statements"
   ]
  },
  {
   "cell_type": "markdown",
   "metadata": {},
   "source": [
    "Given the variable `language` which contains a string, use `if/elif/else` to write a program that:\n",
    "- return \"I love snakes!\" if `language` is `\"python\"` (any kind of capitalization)\n",
    "- return \"Are you a pirate?\" if `language` is `\"R\"` (any kind of capitalization)\n",
    "- else return \"What is `language`?\" if `language` is anything else."
   ]
  },
  {
   "cell_type": "code",
   "execution_count": 7,
   "metadata": {},
   "outputs": [
    {
     "name": "stdout",
     "output_type": "stream",
     "text": [
      "I love snakes!\n"
     ]
    }
   ],
   "source": [
    "language = \"python\"\n",
    "\n",
    "# Your answer here.\n",
    "if language == \"python\" or \"Python\":\n",
    "    print(\"I love snakes!\")\n",
    "elif language == \"R\" or \"r\":\n",
    "    print(\"Are you a pirate\")\n",
    "else:\n",
    "    print(\"What is language?\")"
   ]
  },
  {
   "cell_type": "markdown",
   "metadata": {},
   "source": [
    "## Task 2: Python Fundamentals II (10 marks)\n",
    "\n",
    "This part of the lab takes you through some of the fundamental components of Python."
   ]
  },
  {
   "cell_type": "markdown",
   "metadata": {},
   "source": [
    "### 2.1: `if-elif-else` statements (2 marks)\n",
    "\n",
    "Fill in missing pieces of the following code such that print statements make sense. You should replace <YOUR_CODE_HERE> with your code."
   ]
  },
  {
   "cell_type": "code",
   "execution_count": 1,
   "metadata": {},
   "outputs": [],
   "source": [
    "name = 'Jean-Luc Picard'"
   ]
  },
  {
   "cell_type": "code",
   "execution_count": 12,
   "metadata": {},
   "outputs": [
    {
     "ename": "NameError",
     "evalue": "name 'name' is not defined",
     "output_type": "error",
     "traceback": [
      "\u001b[0;31m---------------------------------------------------------------------------\u001b[0m",
      "\u001b[0;31mNameError\u001b[0m                                 Traceback (most recent call last)",
      "\u001b[0;32m<ipython-input-12-aaa3fab19999>\u001b[0m in \u001b[0;36m<module>\u001b[0;34m\u001b[0m\n\u001b[1;32m      1\u001b[0m \u001b[0;31m### Your solution here\u001b[0m\u001b[0;34m\u001b[0m\u001b[0;34m\u001b[0m\u001b[0;34m\u001b[0m\u001b[0m\n\u001b[1;32m      2\u001b[0m \u001b[0;34m\u001b[0m\u001b[0m\n\u001b[0;32m----> 3\u001b[0;31m \u001b[0;32mif\u001b[0m \u001b[0mlen\u001b[0m\u001b[0;34m(\u001b[0m\u001b[0mname\u001b[0m\u001b[0;34m)\u001b[0m\u001b[0;34m>\u001b[0m\u001b[0;36m18\u001b[0m\u001b[0;34m:\u001b[0m\u001b[0;34m\u001b[0m\u001b[0;34m\u001b[0m\u001b[0m\n\u001b[0m\u001b[1;32m      4\u001b[0m     \u001b[0mprint\u001b[0m\u001b[0;34m(\u001b[0m\u001b[0;34m'Name \"{}\" is more than 18 chars long'\u001b[0m\u001b[0;34m.\u001b[0m\u001b[0mformat\u001b[0m\u001b[0;34m(\u001b[0m\u001b[0mname\u001b[0m\u001b[0;34m)\u001b[0m\u001b[0;34m)\u001b[0m\u001b[0;34m\u001b[0m\u001b[0;34m\u001b[0m\u001b[0m\n\u001b[1;32m      5\u001b[0m     \u001b[0mlength_description\u001b[0m \u001b[0;34m=\u001b[0m \u001b[0;34m'long'\u001b[0m\u001b[0;34m\u001b[0m\u001b[0;34m\u001b[0m\u001b[0m\n",
      "\u001b[0;31mNameError\u001b[0m: name 'name' is not defined"
     ]
    }
   ],
   "source": [
    "### Your solution here\n",
    "\n",
    "if len(name)>18:\n",
    "    print('Name \"{}\" is more than 18 chars long'.format(name))\n",
    "    length_description = 'long'\n",
    "elif len(name)>15:\n",
    "    print('Name \"{}\" is more than 15 chars long'.format(name))\n",
    "    length_description = 'semi long'\n",
    "elif len(name)>12:\n",
    "    print('Name \"{}\" is more than 12 chars long'.format(name))\n",
    "    length_description = 'semi long'\n",
    "elif len(name)>9:\n",
    "    print('Name \"{}\" is 9, 10 or 11 chars long'.format(name))\n",
    "    length_description = 'semi short'\n",
    "else:\n",
    "    print('Name \"{}\" is a short name'.format(name))\n",
    "    length_description = 'short'\n"
   ]
  },
  {
   "cell_type": "markdown",
   "metadata": {},
   "source": [
    "### 2.2: `for` loops (2 marks)\n",
    "\n",
    "Fill <YOUR_CODE_HERE> in the code snippet below so that this sample output is printed:\n",
    "\n",
    "#### Sample Output\n",
    "> A<br>\n",
    "> AA<br>\n",
    "> AAA<br>\n",
    "> AAAA<br>\n",
    "> AAAAA<br>\n",
    "> AAAA<br>\n",
    "> AAA<br>\n",
    "> AA<br>\n",
    "> A<br>"
   ]
  },
  {
   "cell_type": "code",
   "execution_count": 15,
   "metadata": {},
   "outputs": [
    {
     "name": "stdout",
     "output_type": "stream",
     "text": [
      "A\n",
      "AA\n",
      "AAA\n",
      "AAAA\n",
      "AAAAA\n",
      "AAAA\n",
      "AAA\n",
      "AA\n",
      "A\n"
     ]
    }
   ],
   "source": [
    "### Your solution here\n",
    "\n",
    "n = 10\n",
    "for i in range(1,n):\n",
    "    if i<5:\n",
    "        print(\"A\" * i)\n",
    "    else:\n",
    "        print(\"A\" * (n-i))"
   ]
  },
  {
   "cell_type": "markdown",
   "metadata": {},
   "source": [
    "### 2.3: `for` loops and `lists`\n",
    "\n",
    "We have given you some sample code, as well as a list called `data`. \n",
    "\n",
    "> data = [53,9,5,90,63,5,97,40,92,48,53,8,38,63,13,15,66,81,57,79,42,91,25,89,66,4,73,45,80,17]\n",
    "\n",
    "For each of the exercises 1C1 - 1CX, use the `data` list to answer the question by writing the appropriate bits of python code."
   ]
  },
  {
   "cell_type": "markdown",
   "metadata": {},
   "source": [
    "#### 2.3.1: Print values that are within the upper and lower bounds of 15 and 40 (2 marks)\n",
    "\n",
    "*Hint: Use a for loop and loop through each of the elements in data*\n",
    "\n",
    "##### Sample output (it's okay if yours is vertical rather than horizontally printed):\n",
    "\n",
    "> [40, 38, 15, 25, 17]\n"
   ]
  },
  {
   "cell_type": "code",
   "execution_count": 16,
   "metadata": {},
   "outputs": [
    {
     "name": "stdout",
     "output_type": "stream",
     "text": [
      "40\n",
      "38\n",
      "15\n",
      "25\n",
      "17\n"
     ]
    }
   ],
   "source": [
    "data = [53,9,5,90,63,5,97,40,92,48,53,8,38,63,13,15,66,81,57,79,42,91,25,89,66,4,73,45,80,17]\n",
    "\n",
    "### Your solution here\n",
    "for k in data:\n",
    "    if 15 <= k <= 40:\n",
    "        print(k)\n",
    "    "
   ]
  },
  {
   "cell_type": "markdown",
   "metadata": {},
   "source": [
    "#### 2.3.2: Write code to calculate and print the maximum, minimum, sum, count, and average of items in `data`  (4 marks)\n",
    "\n",
    "*Hint: for the mean, you will need to combine the sum and the count*\n",
    "\n",
    "##### Sample output\n",
    "\n",
    "> The max is: 97 <br/>\n",
    "> The min is: 4 <br/>\n",
    "> The sum is: 1507 <br/>\n",
    "> The count is: 30 <br/>\n",
    "> The mean is: 50.233333333333334 <br/>"
   ]
  },
  {
   "cell_type": "code",
   "execution_count": 9,
   "metadata": {},
   "outputs": [
    {
     "ename": "SyntaxError",
     "evalue": "invalid syntax (<ipython-input-9-4085dd0417fb>, line 3)",
     "output_type": "error",
     "traceback": [
      "\u001b[0;36m  File \u001b[0;32m\"<ipython-input-9-4085dd0417fb>\"\u001b[0;36m, line \u001b[0;32m3\u001b[0m\n\u001b[0;31m    print('The max is: {0}'.format(<YOUR_CODE_HERE>)\u001b[0m\n\u001b[0m                                   ^\u001b[0m\n\u001b[0;31mSyntaxError\u001b[0m\u001b[0;31m:\u001b[0m invalid syntax\n"
     ]
    }
   ],
   "source": [
    "### Your solution here\n",
    "\n",
    "print('The max is: {0}'.format(<YOUR_CODE_HERE>)\n",
    "print('The min is: {0}'.format(<YOUR_CODE_HERE>)\n",
    "print('The sum is: {0}'.format(<YOUR_CODE_HERE>)\n",
    "print('The count is: {0}'.format(<YOUR_CODE_HERE>)\n",
    "print('The mean is: {0}'.format(<YOUR_CODE_HERE>)"
   ]
  },
  {
   "cell_type": "markdown",
   "metadata": {},
   "source": [
    "#### 2.4: (Optional) Using list comprehension (NOT for loops), print out the numbers within the specified upper and lower bounds (inclusive) of 12 and 80 (0 marks).\n",
    "\n",
    "#### Sample output:\n",
    "> [53, 63, 40, 48, 53, 38, 63, 13, 15, 66, 57, 79, 42, 25, 66, 73, 45, 80, 17]"
   ]
  },
  {
   "cell_type": "code",
   "execution_count": null,
   "metadata": {},
   "outputs": [],
   "source": [
    "### Your solution here"
   ]
  },
  {
   "cell_type": "markdown",
   "metadata": {},
   "source": [
    "## Task 3 - Dictionaries, Lists and data manapulation (10 marks)\n",
    "\n",
    "In this part we explore another fundamental data structure in python, called Dictionaries."
   ]
  },
  {
   "cell_type": "markdown",
   "metadata": {},
   "source": [
    "### 3.1: Create a dictionary that has 3 keys: name, age and salary, and enter in the following dummy information. (2 marks)\n",
    "\n",
    "#### Sample output\n",
    "> {'name': 'Tim Cook', 'age': 59, 'salary': 3000000.0}"
   ]
  },
  {
   "cell_type": "code",
   "execution_count": 18,
   "metadata": {},
   "outputs": [
    {
     "data": {
      "text/plain": [
       "{'name': 'Tim Cook', 'age': 59, 'salary': 3000000}"
      ]
     },
     "execution_count": 18,
     "metadata": {},
     "output_type": "execute_result"
    }
   ],
   "source": [
    "### Your solution here\n",
    "td = {'name':'Tim Cook',\n",
    "             'age': 59,\n",
    "             'salary':3000000}\n",
    "\n",
    "td"
   ]
  },
  {
   "cell_type": "markdown",
   "metadata": {},
   "source": [
    "### 3.2: Create a second dictionary, this time with at least 5 different names, ages, and salaries. (2 marks)\n",
    "\n",
    "*Hint: There should only be three keys, and the values should be a list.*\n",
    "\n",
    "#### Sample Output\n",
    "\n",
    "> {'name': ['Tim Cook', 'Person 2', 'Person 3'],\n",
    "> 'age': [59, 24, 40],\n",
    "> 'salary': [30000000.0, 200000.0, 900000.0]}"
   ]
  },
  {
   "cell_type": "code",
   "execution_count": 20,
   "metadata": {},
   "outputs": [
    {
     "data": {
      "text/plain": [
       "{'name': ['Tim Cook', 'Elon Musk', 'Jeff Bezos'],\n",
       " 'age': [59, 43, 51],\n",
       " 'salary': [30000000.0, 20000000000.0, 900000.0]}"
      ]
     },
     "execution_count": 20,
     "metadata": {},
     "output_type": "execute_result"
    }
   ],
   "source": [
    "### Your solution here\n",
    "\n",
    "td = {'name':['Tim Cook', 'Elon Musk', 'Jeff Bezos'],\n",
    "             'age': [59,43,51],\n",
    "             'salary':[3E7,2E10,9E5]}\n",
    "\n",
    "td"
   ]
  },
  {
   "cell_type": "markdown",
   "metadata": {},
   "source": [
    "### 3.3: Create a Python program that takes a string text and calculates the frequency of each letter (6 marks)\n",
    "\n",
    "text = \"\"\"Elephants are mammals of the family Elephantidae and the largest existing land animals. Three species are currently recognised: the African bush elephant, the African forest elephant, and the Asian elephant. Elephantidae is the only surviving family of the order Proboscidea; extinct members include the mastodons. The family Elephantidae also contains several now-extinct groups, including the mammoths and straight-tusked elephants. African elephants have larger ears and concave backs, whereas Asian elephants have smaller ears, and convex or level backs. Distinctive features of all elephants include a long trunk, tusks, large ear flaps, massive legs, and tough but sensitive skin. The trunk, also called a proboscis, is used for breathing, bringing food and water to the mouth, and grasping objects. Tusks, which are derived from the incisor teeth, serve both as weapons and as tools for moving objects and digging. The large ear flaps assist in maintaining a constant body temperature as well as in communication. The pillar-like legs carry their great weight. Elephants are scattered throughout sub-Saharan Africa, South Asia, and Southeast Asia and are found in different habitats, including savannahs, forests, deserts, and marshes. They are herbivorous, and they stay near water when it is accessible. They are considered to be keystone species, due to their impact on their environments.[1] Other animals tend to keep their distance from elephants; the exception is their predators such as lions, tigers, hyenas, and wild dogs, which usually target only young elephants (calves). Elephants have a fission–fusion society, in which multiple family groups come together to socialise. Females (cows) tend to live in family groups, which can consist of one female with her calves or several related females with offspring. The groups, which do not include bulls, are led by the (usually) oldest cow, known as the matriarch.\"\"\"\n",
    "\n",
    "*Hint: There are many ways to do this, the most \"elegant\" way uses a mixture of sets, and the `Counter` modules from [`collections`](https://docs.python.org/3/library/collections.html#counter-objects)*\n",
    "\n",
    "#### Sample output:\n",
    "\n",
    ">' ': Count of 293 and Percentage of 15.2%<br>\n",
    ">'(': Count of 3 and Percentage of 0.2%<br>\n",
    ">')': Count of 3 and Percentage of 0.2%<br>\n",
    ">',': Count of 32 and Percentage of 1.7%<br>\n",
    ">'-': Count of 4 and Percentage of 0.2%<br>\n",
    ">'.': Count of 17 and Percentage of 0.9%<br>\n",
    ">'1': Count of 1 and Percentage of 0.1%<br>\n",
    ">':': Count of 1 and Percentage of 0.1%<br>\n",
    ">';': Count of 2 and Percentage of 0.1%<br>\n",
    ">'A': Count of 8 and Percentage of 0.4%<br>\n",
    ">'D': Count of 1 and Percentage of 0.1%<br>\n",
    ">'E': Count of 6 and Percentage of 0.3%<br>\n",
    ">'F': Count of 1 and Percentage of 0.1%<br>\n",
    ">'O': Count of 1 and Percentage of 0.1%<br>\n",
    ">'P': Count of 1 and Percentage of 0.1%<br>\n",
    ">'S': Count of 3 and Percentage of 0.2%<br>\n",
    ">'T': Count of 9 and Percentage of 0.5%<br>\n",
    ">'[': Count of 1 and Percentage of 0.1%<br>\n",
    ">']': Count of 1 and Percentage of 0.1%<br>\n",
    ">'a': Count of 147 and Percentage of 7.6%<br>\n",
    ">'b': Count of 20 and Percentage of 1.0%<br>\n",
    ">'c': Count of 55 and Percentage of 2.8%<br>\n",
    ">'d': Count of 53 and Percentage of 2.7%<br>\n",
    ">'e': Count of 189 and Percentage of 9.8%<br>\n",
    ">'f': Count of 32 and Percentage of 1.7%<br>\n",
    ">'g': Count of 37 and Percentage of 1.9%<br>\n",
    ">'h': Count of 84 and Percentage of 4.4%<br>\n",
    ">'i': Count of 109 and Percentage of 5.6%<br>\n",
    ">'j': Count of 2 and Percentage of 0.1%<br>\n",
    ">'k': Count of 12 and Percentage of 0.6%<br>\n",
    ">'l': Count of 80 and Percentage of 4.1%<br>\n",
    ">'m': Count of 35 and Percentage of 1.8%<br>\n",
    ">'n': Count of 114 and Percentage of 5.9%<br>\n",
    ">'o': Count of 87 and Percentage of 4.5%<br>\n",
    ">'p': Count of 34 and Percentage of 1.8%<br>\n",
    ">'r': Count of 92 and Percentage of 4.8%<br>\n",
    ">'s': Count of 131 and Percentage of 6.8%<br>\n",
    ">'t': Count of 120 and Percentage of 6.2%<br>\n",
    ">'u': Count of 41 and Percentage of 2.1%<br>\n",
    ">'v': Count of 22 and Percentage of 1.1%<br>\n",
    ">'w': Count of 19 and Percentage of 1.0%<br>\n",
    ">'x': Count of 5 and Percentage of 0.3%<br>\n",
    ">'y': Count of 21 and Percentage of 1.1%<br>\n",
    ">'–': Count of 1 and Percentage of 0.1%<br>"
   ]
  },
  {
   "cell_type": "code",
   "execution_count": 1,
   "metadata": {},
   "outputs": [
    {
     "name": "stdout",
     "output_type": "stream",
     "text": [
      "' ': Count of 293 and Percentage of 15.2%\n",
      "'(': Count of 3 and Percentage of 0.2%\n",
      "')': Count of 3 and Percentage of 0.2%\n",
      "',': Count of 32 and Percentage of 1.7%\n",
      "'-': Count of 4 and Percentage of 0.2%\n",
      "'.': Count of 17 and Percentage of 0.9%\n",
      "'1': Count of 1 and Percentage of 0.1%\n",
      "':': Count of 1 and Percentage of 0.1%\n",
      "';': Count of 2 and Percentage of 0.1%\n",
      "'A': Count of 8 and Percentage of 0.4%\n",
      "'D': Count of 1 and Percentage of 0.1%\n",
      "'E': Count of 6 and Percentage of 0.3%\n",
      "'F': Count of 1 and Percentage of 0.1%\n",
      "'O': Count of 1 and Percentage of 0.1%\n",
      "'P': Count of 1 and Percentage of 0.1%\n",
      "'S': Count of 3 and Percentage of 0.2%\n",
      "'T': Count of 9 and Percentage of 0.5%\n",
      "'[': Count of 1 and Percentage of 0.1%\n",
      "']': Count of 1 and Percentage of 0.1%\n",
      "'a': Count of 147 and Percentage of 7.6%\n",
      "'b': Count of 20 and Percentage of 1.0%\n",
      "'c': Count of 55 and Percentage of 2.8%\n",
      "'d': Count of 53 and Percentage of 2.7%\n",
      "'e': Count of 189 and Percentage of 9.8%\n",
      "'f': Count of 32 and Percentage of 1.7%\n",
      "'g': Count of 37 and Percentage of 1.9%\n",
      "'h': Count of 84 and Percentage of 4.4%\n",
      "'i': Count of 109 and Percentage of 5.6%\n",
      "'j': Count of 2 and Percentage of 0.1%\n",
      "'k': Count of 12 and Percentage of 0.6%\n",
      "'l': Count of 80 and Percentage of 4.1%\n",
      "'m': Count of 35 and Percentage of 1.8%\n",
      "'n': Count of 114 and Percentage of 5.9%\n",
      "'o': Count of 87 and Percentage of 4.5%\n",
      "'p': Count of 34 and Percentage of 1.8%\n",
      "'r': Count of 92 and Percentage of 4.8%\n",
      "'s': Count of 131 and Percentage of 6.8%\n",
      "'t': Count of 120 and Percentage of 6.2%\n",
      "'u': Count of 41 and Percentage of 2.1%\n",
      "'v': Count of 22 and Percentage of 1.1%\n",
      "'w': Count of 19 and Percentage of 1.0%\n",
      "'x': Count of 5 and Percentage of 0.3%\n",
      "'y': Count of 21 and Percentage of 1.1%\n",
      "'–': Count of 1 and Percentage of 0.1%\n"
     ]
    }
   ],
   "source": [
    "text = \"\"\"Elephants are mammals of the family Elephantidae and the largest existing land animals. Three species are currently recognised: the African bush elephant, the African forest elephant, and the Asian elephant. Elephantidae is the only surviving family of the order Proboscidea; extinct members include the mastodons. The family Elephantidae also contains several now-extinct groups, including the mammoths and straight-tusked elephants. African elephants have larger ears and concave backs, whereas Asian elephants have smaller ears, and convex or level backs. Distinctive features of all elephants include a long trunk, tusks, large ear flaps, massive legs, and tough but sensitive skin. The trunk, also called a proboscis, is used for breathing, bringing food and water to the mouth, and grasping objects. Tusks, which are derived from the incisor teeth, serve both as weapons and as tools for moving objects and digging. The large ear flaps assist in maintaining a constant body temperature as well as in communication. The pillar-like legs carry their great weight. Elephants are scattered throughout sub-Saharan Africa, South Asia, and Southeast Asia and are found in different habitats, including savannahs, forests, deserts, and marshes. They are herbivorous, and they stay near water when it is accessible. They are considered to be keystone species, due to their impact on their environments.[1] Other animals tend to keep their distance from elephants; the exception is their predators such as lions, tigers, hyenas, and wild dogs, which usually target only young elephants (calves). Elephants have a fission–fusion society, in which multiple family groups come together to socialise. Females (cows) tend to live in family groups, which can consist of one female with her calves or several related females with offspring. The groups, which do not include bulls, are led by the (usually) oldest cow, known as the matriarch.\"\"\"\n",
    "\n",
    "### Your solution here\n",
    "from collections import Counter\n",
    "count=Counter(text)\n",
    "\n",
    "for i in sorted(set(text)):\n",
    "    print(\"'{0}': Count of {1} and Percentage of {2:.1f}%\".format(i,count[i],100*count[i]/len(text)))"
   ]
  },
  {
   "cell_type": "code",
   "execution_count": null,
   "metadata": {},
   "outputs": [],
   "source": []
  }
 ],
 "metadata": {
  "interpreter": {
   "hash": "31f2aee4e71d21fbe5cf8b01ff0e069b9275f58929596ceb00d14d90e3e16cd6"
  },
  "kernelspec": {
   "display_name": "Python 3",
   "language": "python",
   "name": "python3"
  },
  "language_info": {
   "codemirror_mode": {
    "name": "ipython",
    "version": 3
   },
   "file_extension": ".py",
   "mimetype": "text/x-python",
   "name": "python",
   "nbconvert_exporter": "python",
   "pygments_lexer": "ipython3",
   "version": "3.8.5"
  },
  "nteract": {
   "version": "0.25.0"
  }
 },
 "nbformat": 4,
 "nbformat_minor": 4
}
